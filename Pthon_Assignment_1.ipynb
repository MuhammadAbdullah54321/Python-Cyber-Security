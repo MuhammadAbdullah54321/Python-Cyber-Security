{
  "nbformat": 4,
  "nbformat_minor": 0,
  "metadata": {
    "colab": {
      "provenance": [],
      "authorship_tag": "ABX9TyMW7wRH8XN0CCMIAP5URDzI",
      "include_colab_link": true
    },
    "kernelspec": {
      "name": "python3",
      "display_name": "Python 3"
    },
    "language_info": {
      "name": "python"
    }
  },
  "cells": [
    {
      "cell_type": "markdown",
      "metadata": {
        "id": "view-in-github",
        "colab_type": "text"
      },
      "source": [
        "<a href=\"https://colab.research.google.com/github/MuhammadAbdullah54321/Python-Cyber-Security/blob/main/Pthon_Assignment_1.ipynb\" target=\"_parent\"><img src=\"https://colab.research.google.com/assets/colab-badge.svg\" alt=\"Open In Colab\"/></a>"
      ]
    },
    {
      "cell_type": "code",
      "execution_count": 5,
      "metadata": {
        "colab": {
          "base_uri": "https://localhost:8080/"
        },
        "id": "TcRnz-9N8XSv",
        "outputId": "42fd9d2d-f84a-4c6b-d2bb-0aeb43ea296b"
      },
      "outputs": [
        {
          "output_type": "stream",
          "name": "stdout",
          "text": [
            "Enter any name: Abid\n",
            "bidA\n",
            "idAb\n",
            "dAbi\n",
            "Abid\n"
          ]
        }
      ],
      "source": [
        "# Muhammad Abdullah - 503519\n",
        "\n",
        "name = input(\"Enter any name: \")\n",
        "\n",
        "for c in name: \n",
        "  first = name[0]\n",
        "  remaining = name[1:]\n",
        "  name = remaining + first\n",
        "  print(name)"
      ]
    }
  ]
}